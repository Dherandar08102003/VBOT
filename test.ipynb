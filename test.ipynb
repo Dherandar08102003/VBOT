{
 "cells": [
  {
   "cell_type": "code",
   "execution_count": 1,
   "metadata": {},
   "outputs": [],
   "source": [
    "from RAG.components.search_and_answer import SearchAndAnswer\n",
    "from RAG.pipeline.stage_02_search_answer import SearchAnswerPipeline"
   ]
  },
  {
   "cell_type": "code",
   "execution_count": 2,
   "metadata": {},
   "outputs": [
    {
     "name": "stdout",
     "output_type": "stream",
     "text": [
      "[2025-02-27 08:21:33,795: INFO: config: PyTorch version 2.2.1+cu118 available.]\n"
     ]
    },
    {
     "name": "stdout",
     "output_type": "stream",
     "text": [
      "[2025-02-27 08:21:34,132: INFO: SentenceTransformer: Load pretrained SentenceTransformer: all-mpnet-base-v2]\n",
      "[2025-02-27 08:21:34,526: INFO: common: yaml file: config/config.yaml loaded successfully]\n",
      "[2025-02-27 08:21:34,528: INFO: common: yaml file: params.yaml loaded successfully]\n",
      "[2025-02-27 08:21:34,529: INFO: common: yaml file: schema.yaml loaded successfully]\n"
     ]
    }
   ],
   "source": [
    "\n",
    "from sentence_transformers import SentenceTransformer\n",
    "embed_model = SentenceTransformer(\n",
    "    model_name_or_path=\"all-mpnet-base-v2\",\n",
    "    device=\"cpu\",\n",
    ")\n",
    "obj = SearchAnswerPipeline(None, None,embed_model)"
   ]
  },
  {
   "cell_type": "code",
   "execution_count": null,
   "metadata": {},
   "outputs": [],
   "source": []
  }
 ],
 "metadata": {
  "language_info": {
   "name": "python"
  }
 },
 "nbformat": 4,
 "nbformat_minor": 2
}
